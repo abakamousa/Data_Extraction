{
 "cells": [
  {
   "cell_type": "code",
   "execution_count": 1,
   "metadata": {},
   "outputs": [
    {
     "name": "stderr",
     "output_type": "stream",
     "text": [
      "/home/aboubakar/anaconda3/lib/python3.7/site-packages/pandas/compat/_optional.py:138: UserWarning: Pandas requires version '2.7.0' or newer of 'numexpr' (version '2.6.9' currently installed).\n",
      "  warnings.warn(msg, UserWarning)\n"
     ]
    }
   ],
   "source": [
    "from urllib.request import urlopen\n",
    "from bs4 import BeautifulSoup\n",
    "import pandas as pd\n",
    "import requests\n",
    "import re\n",
    "from requests_html import HTML\n",
    "from random import randint\n",
    "from time import sleep"
   ]
  },
  {
   "cell_type": "code",
   "execution_count": 2,
   "metadata": {},
   "outputs": [],
   "source": [
    "# function to extract html document from given url\n",
    "def getHTMLdocument(url):\n",
    "    \n",
    "      \n",
    "    # request for HTML document of given url\n",
    "    response = requests.get(url)\n",
    "      \n",
    "    # response will be provided in JSON format\n",
    "    return response.text\n",
    "    \n",
    "    \n",
    "def get_url(start_page, end_page, tag): #start_page, end_page, tag):\n",
    "    \n",
    "    base_url = \"https://stackoverflow.com/questions/tagged/\"\n",
    "    tag = tag \n",
    "    query_filter = \"tab=votes&page=\"\n",
    "    \n",
    "    page_url = []\n",
    "    for page in range(start_page, end_page):\n",
    "            \n",
    "        \n",
    "        url_to_scrape =  f\"{base_url}{tag}?{query_filter}\"+str(page)+str(\"&pagesize=50\")\n",
    "        prefix='https://stackoverflow.com'\n",
    "        #print(url_to_scrape)\n",
    "        # create document\n",
    "        html_document = getHTMLdocument(url_to_scrape)\n",
    "        # create soup object\n",
    "        soup = BeautifulSoup(html_document, 'html.parser')\n",
    "\n",
    "        #for page in range(start_page, end_page):\n",
    "        for link in soup.find_all('a', class_=\"s-link\", attrs={'href': re.compile(\"^/questions\")}):\n",
    "            # display the actual urls\n",
    "            #print(prefix+link.get('href')) \n",
    "            page_url.append(prefix+link.get('href'))\n",
    "        sleep(randint(2,10))\n",
    "            \n",
    "    return page_url\n",
    "\n",
    "\n"
   ]
  },
  {
   "cell_type": "code",
   "execution_count": 11,
   "metadata": {},
   "outputs": [],
   "source": [
    "def extract_question_answer(topic):\n",
    "    url_to_scrape = get_url(1, 3, topic)\n",
    "    question = []\n",
    "    answer   = []\n",
    "\n",
    "    for url in url_to_scrape:\n",
    "        r = requests.get(url)\n",
    "        html_str = r.text\n",
    "        html = HTML(html = html_str)\n",
    "        #print(url)\n",
    "        question_summary= html.find(\".question-hyperlink\")\n",
    "        question.append(question_summary[0].text)\n",
    "        answer_summary  = html.find(\".comment-copy\")\n",
    "        answer.append(answer_summary[0].text)\n",
    "        #print(question_summary[0].text)\n",
    "        #print(\"\\n\")\n",
    "        #print(answer_summary[0].text)\n",
    "        \n",
    "    \n",
    "    return question, answer"
   ]
  },
  {
   "cell_type": "code",
   "execution_count": 4,
   "metadata": {},
   "outputs": [],
   "source": [
    "Q1, A1 = extract_question_answer('python')\n"
   ]
  },
  {
   "cell_type": "code",
   "execution_count": 5,
   "metadata": {},
   "outputs": [],
   "source": [
    "Q2, A2 = extract_question_answer('pandas')"
   ]
  },
  {
   "cell_type": "code",
   "execution_count": 6,
   "metadata": {},
   "outputs": [],
   "source": [
    "Q3, A3 = extract_question_answer('php')"
   ]
  },
  {
   "cell_type": "code",
   "execution_count": 7,
   "metadata": {},
   "outputs": [],
   "source": [
    "Q4, A4 = extract_question_answer('html')"
   ]
  },
  {
   "cell_type": "code",
   "execution_count": 12,
   "metadata": {},
   "outputs": [],
   "source": [
    "Q5, A5 = extract_question_answer('bash')"
   ]
  },
  {
   "cell_type": "code",
   "execution_count": 13,
   "metadata": {},
   "outputs": [],
   "source": [
    "Q6, A6 = extract_question_answer('matlab')"
   ]
  },
  {
   "cell_type": "code",
   "execution_count": 14,
   "metadata": {},
   "outputs": [],
   "source": [
    "Q7, A7 = extract_question_answer('TypeScript')"
   ]
  },
  {
   "cell_type": "code",
   "execution_count": 15,
   "metadata": {},
   "outputs": [],
   "source": [
    "Q8, A8 = extract_question_answer('Swift') "
   ]
  },
  {
   "cell_type": "code",
   "execution_count": 16,
   "metadata": {},
   "outputs": [],
   "source": [
    "Q9, A9 = extract_question_answer('android')"
   ]
  },
  {
   "cell_type": "code",
   "execution_count": 17,
   "metadata": {},
   "outputs": [],
   "source": [
    "Q10, A10 = extract_question_answer('Kotlin') "
   ]
  },
  {
   "cell_type": "code",
   "execution_count": 18,
   "metadata": {},
   "outputs": [],
   "source": [
    "Q11, A11 = extract_question_answer('PowerShell')"
   ]
  },
  {
   "cell_type": "code",
   "execution_count": 19,
   "metadata": {},
   "outputs": [],
   "source": [
    "df_Q = Q1 +Q2 +Q3 +Q4 +Q5 +Q6 +Q7 +Q8 +Q9 +Q10 +Q11 \n",
    "df_A = A1 +A2 +A3 +A4 +A5 +A6+ A7 +A8 +A9 +A10 +A11"
   ]
  },
  {
   "cell_type": "code",
   "execution_count": 20,
   "metadata": {},
   "outputs": [],
   "source": [
    "df=pd.DataFrame()\n",
    "df[\"question\"]= df_Q\n",
    "df[\"answer\"]  = df_A"
   ]
  },
  {
   "cell_type": "code",
   "execution_count": 21,
   "metadata": {},
   "outputs": [
    {
     "data": {
      "text/plain": [
       "1099"
      ]
     },
     "execution_count": 21,
     "metadata": {},
     "output_type": "execute_result"
    }
   ],
   "source": [
    "df.shape[0]"
   ]
  },
  {
   "cell_type": "code",
   "execution_count": 26,
   "metadata": {},
   "outputs": [
    {
     "name": "stdout",
     "output_type": "stream",
     "text": [
      "<class 'pandas.core.frame.DataFrame'>\n",
      "RangeIndex: 1099 entries, 0 to 1098\n",
      "Data columns (total 2 columns):\n",
      " #   Column    Non-Null Count  Dtype \n",
      "---  ------    --------------  ----- \n",
      " 0   question  1099 non-null   object\n",
      " 1   answer    1099 non-null   object\n",
      "dtypes: object(2)\n",
      "memory usage: 17.3+ KB\n"
     ]
    }
   ],
   "source": [
    "df.info()"
   ]
  },
  {
   "cell_type": "code",
   "execution_count": 27,
   "metadata": {},
   "outputs": [
    {
     "data": {
      "text/html": [
       "<div>\n",
       "<style scoped>\n",
       "    .dataframe tbody tr th:only-of-type {\n",
       "        vertical-align: middle;\n",
       "    }\n",
       "\n",
       "    .dataframe tbody tr th {\n",
       "        vertical-align: top;\n",
       "    }\n",
       "\n",
       "    .dataframe thead th {\n",
       "        text-align: right;\n",
       "    }\n",
       "</style>\n",
       "<table border=\"1\" class=\"dataframe\">\n",
       "  <thead>\n",
       "    <tr style=\"text-align: right;\">\n",
       "      <th></th>\n",
       "      <th>question</th>\n",
       "      <th>answer</th>\n",
       "    </tr>\n",
       "  </thead>\n",
       "  <tbody>\n",
       "    <tr>\n",
       "      <th>0</th>\n",
       "      <td>What does the \"yield\" keyword do?</td>\n",
       "      <td>Ridiculous amount of upvotes for a very easy q...</td>\n",
       "    </tr>\n",
       "    <tr>\n",
       "      <th>1</th>\n",
       "      <td>What does if __name__ == \"__main__\": do?</td>\n",
       "      <td>Just for the record - what is \"main\": docs.pyt...</td>\n",
       "    </tr>\n",
       "    <tr>\n",
       "      <th>2</th>\n",
       "      <td>Python: Does Python have a ternary conditional...</td>\n",
       "      <td>In the Python 3.0 official documentation refer...</td>\n",
       "    </tr>\n",
       "    <tr>\n",
       "      <th>3</th>\n",
       "      <td>What are metaclasses in Python?</td>\n",
       "      <td>It appears that in Django models.Model it does...</td>\n",
       "    </tr>\n",
       "    <tr>\n",
       "      <th>4</th>\n",
       "      <td>How do I check whether a file exists without e...</td>\n",
       "      <td>To check whether a Path object exists independ...</td>\n",
       "    </tr>\n",
       "  </tbody>\n",
       "</table>\n",
       "</div>"
      ],
      "text/plain": [
       "                                            question  \\\n",
       "0                  What does the \"yield\" keyword do?   \n",
       "1           What does if __name__ == \"__main__\": do?   \n",
       "2  Python: Does Python have a ternary conditional...   \n",
       "3                    What are metaclasses in Python?   \n",
       "4  How do I check whether a file exists without e...   \n",
       "\n",
       "                                              answer  \n",
       "0  Ridiculous amount of upvotes for a very easy q...  \n",
       "1  Just for the record - what is \"main\": docs.pyt...  \n",
       "2  In the Python 3.0 official documentation refer...  \n",
       "3  It appears that in Django models.Model it does...  \n",
       "4  To check whether a Path object exists independ...  "
      ]
     },
     "execution_count": 27,
     "metadata": {},
     "output_type": "execute_result"
    }
   ],
   "source": [
    "df.head()"
   ]
  },
  {
   "cell_type": "code",
   "execution_count": 22,
   "metadata": {},
   "outputs": [],
   "source": [
    "df.to_csv(\"df_question_answer_stackoverflow.csv\")"
   ]
  }
 ],
 "metadata": {
  "kernelspec": {
   "display_name": "Python 3",
   "language": "python",
   "name": "python3"
  },
  "language_info": {
   "codemirror_mode": {
    "name": "ipython",
    "version": 3
   },
   "file_extension": ".py",
   "mimetype": "text/x-python",
   "name": "python",
   "nbconvert_exporter": "python",
   "pygments_lexer": "ipython3",
   "version": "3.7.3"
  }
 },
 "nbformat": 4,
 "nbformat_minor": 2
}
